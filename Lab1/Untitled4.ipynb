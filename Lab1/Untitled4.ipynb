{
 "cells": [
  {
   "cell_type": "code",
   "execution_count": 1,
   "metadata": {},
   "outputs": [],
   "source": [
    " data = [dict(a=1, b=0, Class=0), dict(a=1, b=1, Class=1)]"
   ]
  },
  {
   "cell_type": "code",
   "execution_count": 34,
   "metadata": {},
   "outputs": [],
   "source": [
    "def ID3(examples, default):\n",
    "  '''\n",
    "  Takes in an array of examples, and returns a tree (an instance of Node) \n",
    "  trained on the examples.  Each example is a dictionary of attribute:value pairs,\n",
    "  and the target class variable is a special attribute with the name \"Class\".\n",
    "  Any missing attributes are denoted with a value of \"?\"\n",
    "  '''\n",
    "  countDict = setAttrAndCount(examples) #it can still have the attribute but we may need to remove it\n",
    "  t = Node()\n",
    "\n",
    "  lst = []\n",
    "  for example in examples:\n",
    "      lst.append(example['Class'])\n",
    "\n",
    "  if len(examples) == 0:\n",
    "      t.value= default\n",
    "      t.majority = default\n",
    "      return t\n",
    "\n",
    "  elif lst[1:] == lst[:-1]:\n",
    "      t.value = examples[0]['Class']\n",
    "      t.majority = examples[0]['Class']\n",
    "      return t\n",
    "\n",
    "  #chooseBestAttribute(examples) is '':\n",
    "  elif not countDict:\n",
    "      t.value = Mode(examples)\n",
    "      t.majority = Mode(examples)\n",
    "      return t\n",
    "\n",
    "  best = chooseBestAttribute(examples,countDict.keys())\n",
    "\n",
    "  if len(countDict[best]) == 1: \n",
    "      t.value  = Mode(examples)\n",
    "      t.majority = Mode(examples)\n",
    "      return t \n",
    "\n",
    "  else:\n",
    "\n",
    "      values = []\n",
    "      t.attribute = best \n",
    "\n",
    "      for item in examples:\n",
    "          if item[best] not in values:\n",
    "              values.append(item[best])\n",
    "      \n",
    "      for val in values:\n",
    "          examplesi = []\n",
    "          for example in examples: \n",
    "              if example[best] == val:\n",
    "                  examplesi.append(example)\n",
    "              subtree=Node()\n",
    "              subtree = ID3(examplesi, Mode(examples))\n",
    "              t.children[val] = subtree\n",
    "\n",
    "      return t"
   ]
  },
  {
   "cell_type": "code",
   "execution_count": 25,
   "metadata": {},
   "outputs": [],
   "source": [
    "countDict = getCountDict(data,\"Class\")"
   ]
  },
  {
   "cell_type": "code",
   "execution_count": 24,
   "metadata": {},
   "outputs": [],
   "source": [
    "import csv\n",
    "\n",
    "def parse(filename):\n",
    "  '''\n",
    "  takes a filename and returns attribute information and all the data in array of dictionaries\n",
    "  '''\n",
    "  # initialize variables\n",
    "\n",
    "  out = []  \n",
    "  csvfile = open(filename,'rb')\n",
    "  fileToRead = csv.reader(csvfile)\n",
    "\n",
    "  headers = fileToRead.next()\n",
    "\n",
    "  # iterate through rows of actual data\n",
    "  for row in fileToRead:\n",
    "    out.append(dict(zip(headers, row)))\n",
    "  return out\n",
    "\n",
    "data = parse(\"house_votes_84.data\")"
   ]
  },
  {
   "cell_type": "code",
   "execution_count": 26,
   "metadata": {},
   "outputs": [],
   "source": [
    "best= chooseBestAttribute(data,countDict)"
   ]
  },
  {
   "cell_type": "code",
   "execution_count": 31,
   "metadata": {},
   "outputs": [],
   "source": []
  },
  {
   "cell_type": "code",
   "execution_count": 32,
   "metadata": {},
   "outputs": [],
   "source": [
    " data = [dict(a=1, b=0, Class=0), dict(a=1, b=1, Class=1)]"
   ]
  },
  {
   "cell_type": "code",
   "execution_count": 33,
   "metadata": {},
   "outputs": [
    {
     "data": {
      "text/plain": [
       "<node.Node instance at 0x3aee260>"
      ]
     },
     "execution_count": 33,
     "metadata": {},
     "output_type": "execute_result"
    }
   ],
   "source": [
    "ID3(data, 0)"
   ]
  },
  {
   "cell_type": "code",
   "execution_count": null,
   "metadata": {},
   "outputs": [],
   "source": []
  }
 ],
 "metadata": {
  "kernelspec": {
   "display_name": "Python 2",
   "language": "python",
   "name": "python2"
  },
  "language_info": {
   "codemirror_mode": {
    "name": "ipython",
    "version": 2
   },
   "file_extension": ".py",
   "mimetype": "text/x-python",
   "name": "python",
   "nbconvert_exporter": "python",
   "pygments_lexer": "ipython2",
   "version": "2.7.14"
  }
 },
 "nbformat": 4,
 "nbformat_minor": 2
}
