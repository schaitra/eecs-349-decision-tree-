{
 "cells": [
  {
   "cell_type": "code",
   "execution_count": 8,
   "metadata": {},
   "outputs": [],
   "source": [
    "import csv\n",
    "\n",
    "def parse(filename):\n",
    "  '''\n",
    "  takes a filename and returns attribute information and all the data in array of dictionaries\n",
    "  '''\n",
    "  # initialize variables\n",
    "\n",
    "  out = []  \n",
    "  csvfile = open(filename,'rb')\n",
    "  fileToRead = csv.reader(csvfile)\n",
    "\n",
    "  headers = fileToRead.next()\n",
    "\n",
    "  # iterate through rows of actual data\n",
    "  for row in fileToRead:\n",
    "    out.append(dict(zip(headers, row)))\n",
    "  return out\n",
    "\n",
    "data = parse(\"house_votes_84.data\")"
   ]
  },
  {
   "cell_type": "code",
   "execution_count": 9,
   "metadata": {},
   "outputs": [
    {
     "name": "stdout",
     "output_type": "stream",
     "text": [
      "Number of Observations: 435\n",
      "Number of Attributes: 17\n"
     ]
    }
   ],
   "source": [
    "#Exploring the data \n",
    "print \"Number of Observations:\" , len(data)\n",
    "data[1:3]\n",
    "attributes = data[1].keys()\n",
    "print \"Number of Attributes:\" ,len(attributes)"
   ]
  },
  {
   "cell_type": "code",
   "execution_count": 19,
   "metadata": {},
   "outputs": [
    {
     "name": "stdout",
     "output_type": "stream",
     "text": [
      "168\n",
      "267\n",
      "0\n"
     ]
    }
   ],
   "source": [
    "republican = 0 \n",
    "democrat = 0 \n",
    "question = 0\n",
    "for item in data: \n",
    "    if item['Class'] == \"republican\":\n",
    "        republican = republican+1 \n",
    "    elif item['Class'] == 'democrat':\n",
    "        democrat = democrat + 1 \n",
    "    else:\n",
    "        question = question+1\n",
    "print republican \n",
    "print democrat\n",
    "print question"
   ]
  },
  {
   "cell_type": "code",
   "execution_count": 38,
   "metadata": {},
   "outputs": [],
   "source": [
    "republican = 0 \n",
    "democrat = 0 \n",
    "question = 0\n",
    "for item in data: \n",
    "    if item['Class'] == \"republican\":\n",
    "        republican = republican+1 \n",
    "    elif item['Class'] == 'democrat':\n",
    "        democrat = democrat + 1 \n",
    "    else:\n",
    "        question = question+1"
   ]
  },
  {
   "cell_type": "code",
   "execution_count": 47,
   "metadata": {},
   "outputs": [
    {
     "name": "stdout",
     "output_type": "stream",
     "text": [
      "187.0 236.0 12.0\n",
      "156.0 31.0 102.0 134.0 9.0 3.0\n"
     ]
    },
    {
     "data": {
      "text/plain": [
       "0.3861386971201965"
      ]
     },
     "execution_count": 47,
     "metadata": {},
     "output_type": "execute_result"
    }
   ],
   "source": [
    "yes = 0.0\n",
    "no = 0.0\n",
    "u = 0.0 \n",
    "democrat_y =0.0 \n",
    "republican_y = 0.0 \n",
    "democrat_n =0.0 \n",
    "republican_n = 0.0 \n",
    "democrat_u =0.0\n",
    "republican_u = 0.0\n",
    "\n",
    "\n",
    "for item in data: \n",
    "    if item['handicapped-infants'] == 'y':\n",
    "        yes+=1 \n",
    "        if item['Class']=='democrat':\n",
    "            democrat_y+=1\n",
    "        else:\n",
    "            republican_y+=1\n",
    "    elif item['handicapped-infants']=='n':\n",
    "        no+=1 \n",
    "        if item['Class']=='democrat':\n",
    "            democrat_n+=1\n",
    "        else:\n",
    "            republican_n+=1\n",
    "    else:\n",
    "        u+=1\n",
    "        if item['Class']=='democrat':\n",
    "            democrat_u+=1\n",
    "        else:\n",
    "            republican_u+=1\n",
    "print yes,no,u\n",
    "print democrat_y,republican_y,democrat_n,republican_n,democrat_u,republican_u\n",
    "l = len(data)\n",
    "\n",
    "first = ((democrat_y)/(democrat_y+republican_y))*math.log(((democrat_y)/(democrat_y+republican_y)),2)\n",
    "second= (democrat_y+republican_y)/(len(data))\n",
    "\n",
    "third = ((democrat_n)/(democrat_n+republican_n))*math.log(((democrat_n)/(democrat_n+republican_n)),2)\n",
    "fourth = (democrat_n+republican_n)/(len(data))\n",
    "\n",
    "fifth = ((democrat_u)/(democrat_u+republican_u))*math.log(((democrat_u)/(democrat_u+republican_u)),2)\n",
    "sixth = (democrat_u+republican_u)/(len(data))\n",
    "\n",
    "\n",
    "abs(first*second+third*fourth+fifth*sixth)"
   ]
  },
  {
   "cell_type": "code",
   "execution_count": 43,
   "metadata": {},
   "outputs": [],
   "source": [
    "import math"
   ]
  },
  {
   "cell_type": "code",
   "execution_count": 48,
   "metadata": {},
   "outputs": [
    {
     "data": {
      "text/plain": [
       "0.6931471805599453"
      ]
     },
     "execution_count": 48,
     "metadata": {},
     "output_type": "execute_result"
    }
   ],
   "source": [
    "math.log(2)"
   ]
  },
  {
   "cell_type": "code",
   "execution_count": null,
   "metadata": {},
   "outputs": [],
   "source": [
    "## For this function, we should use dictionaries to store attributes: values\n",
    "## one of their values should be a dict with number of democrats and number of republicans \n",
    "## I was stuck on how to a)Create this dict and b) how to access different values of it \n",
    "\n",
    "def infogain (examples):\n",
    "    \n",
    "att = data[1].keys()\n",
    "dict = {} \n",
    "l = len(data)\n",
    "entropy = 0.0 \n",
    "gain = 0.0\n",
    "\n",
    "for item in examples: \n",
    "    for attribute in att:\n",
    "        if value of item[attribute] in dict\n",
    "        count of item in dictionary +1 \n",
    "            if class of item is already included\n",
    "                class +=1 \n",
    "            else:\n",
    "                class =1 \n",
    "        else: \n",
    "        count of item = 1 \n",
    "        class of item +1 \n",
    "\n",
    "#results in a dictionary with {attribute:values}\n",
    "#eg: {handicapped infants: y, democrats:, republicans:, n...., ?...}\n",
    "l = len(examples)\n",
    "\n",
    "for value in dict (y/n/?):\n",
    "    for nextvalue in next dict:\n",
    "     entropy += nextvalue/(sum of democrats and republicans)*math.log(nextvalue/sum of democrats and republicans)\n",
    "     gain += value/len(examples)*entropy \n",
    "     return abs(gain)"
   ]
  }
 ],
 "metadata": {
  "kernelspec": {
   "display_name": "Python 2",
   "language": "python",
   "name": "python2"
  },
  "language_info": {
   "codemirror_mode": {
    "name": "ipython",
    "version": 2.0
   },
   "file_extension": ".py",
   "mimetype": "text/x-python",
   "name": "python",
   "nbconvert_exporter": "python",
   "pygments_lexer": "ipython2",
   "version": "2.7.14"
  }
 },
 "nbformat": 4,
 "nbformat_minor": 0
}