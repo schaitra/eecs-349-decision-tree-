{
 "cells": [
  {
   "cell_type": "code",
   "execution_count": 226,
   "metadata": {},
   "outputs": [],
   "source": [
    "import csv\n",
    "\n",
    "def parse(filename):\n",
    "  '''\n",
    "  takes a filename and returns attribute information and all the data in array of dictionaries\n",
    "  '''\n",
    "  # initialize variables\n",
    "\n",
    "  out = []  \n",
    "  csvfile = open(filename,'rb')\n",
    "  fileToRead = csv.reader(csvfile)\n",
    "\n",
    "  headers = fileToRead.next()\n",
    "\n",
    "  # iterate through rows of actual data\n",
    "  for row in fileToRead:\n",
    "    out.append(dict(zip(headers, row)))\n",
    "  return out\n",
    "\n",
    "data = parse(\"house_votes_84.data\")"
   ]
  },
  {
   "cell_type": "code",
   "execution_count": 158,
   "metadata": {},
   "outputs": [
    {
     "name": "stdout",
     "output_type": "stream",
     "text": [
      "Number of Observations: 435\n",
      "Number of Attributes: 17\n"
     ]
    }
   ],
   "source": [
    "#Exploring the data \n",
    "print \"Number of Observations:\" , len(data)\n",
    "data[1:3]\n",
    "attributes = data[1].keys()\n",
    "print \"Number of Attributes:\" ,len(attributes)"
   ]
  },
  {
   "cell_type": "code",
   "execution_count": 19,
   "metadata": {},
   "outputs": [
    {
     "name": "stdout",
     "output_type": "stream",
     "text": [
      "168\n",
      "267\n",
      "0\n"
     ]
    }
   ],
   "source": [
    "republican = 0 \n",
    "democrat = 0 \n",
    "question = 0\n",
    "for item in data: \n",
    "    if item['Class'] == \"republican\":\n",
    "        republican = republican+1 \n",
    "    elif item['Class'] == 'democrat':\n",
    "        democrat = democrat + 1 \n",
    "    else:\n",
    "        question = question+1\n",
    "print republican \n",
    "print democrat\n",
    "print question"
   ]
  },
  {
   "cell_type": "code",
   "execution_count": 38,
   "metadata": {},
   "outputs": [],
   "source": [
    "republican = 0 \n",
    "democrat = 0 \n",
    "question = 0\n",
    "for item in data: \n",
    "    if item['Class'] == \"republican\":\n",
    "        republican = republican+1 \n",
    "    elif item['Class'] == 'democrat':\n",
    "        democrat = democrat + 1 \n",
    "    else:\n",
    "        question = question+1"
   ]
  },
  {
   "cell_type": "code",
   "execution_count": 47,
   "metadata": {},
   "outputs": [
    {
     "name": "stdout",
     "output_type": "stream",
     "text": [
      "187.0 236.0 12.0\n",
      "156.0 31.0 102.0 134.0 9.0 3.0\n"
     ]
    },
    {
     "data": {
      "text/plain": [
       "0.3861386971201965"
      ]
     },
     "execution_count": 47,
     "metadata": {},
     "output_type": "execute_result"
    }
   ],
   "source": [
    "yes = 0.0\n",
    "no = 0.0\n",
    "u = 0.0 \n",
    "democrat_y =0.0 \n",
    "republican_y = 0.0 \n",
    "democrat_n =0.0 \n",
    "republican_n = 0.0 \n",
    "democrat_u =0.0\n",
    "republican_u = 0.0\n",
    "\n",
    "\n",
    "for item in data: \n",
    "    if item['handicapped-infants'] == 'y':\n",
    "        yes+=1 \n",
    "        if item['Class']=='democrat':\n",
    "            democrat_y+=1\n",
    "        else:\n",
    "            republican_y+=1\n",
    "    elif item['handicapped-infants']=='n':\n",
    "        no+=1 \n",
    "        if item['Class']=='democrat':\n",
    "            democrat_n+=1\n",
    "        else:\n",
    "            republican_n+=1\n",
    "    else:\n",
    "        u+=1\n",
    "        if item['Class']=='democrat':\n",
    "            democrat_u+=1\n",
    "        else:\n",
    "            republican_u+=1\n",
    "print yes,no,u\n",
    "print democrat_y,republican_y,democrat_n,republican_n,democrat_u,republican_u\n",
    "l = len(data)\n",
    "\n",
    "first = ((democrat_y)/(democrat_y+republican_y))*math.log(((democrat_y)/(democrat_y+republican_y)),2)\n",
    "second= (democrat_y+republican_y)/(len(data))\n",
    "\n",
    "third = ((democrat_n)/(democrat_n+republican_n))*math.log(((democrat_n)/(democrat_n+republican_n)),2)\n",
    "fourth = (democrat_n+republican_n)/(len(data))\n",
    "\n",
    "fifth = ((democrat_u)/(democrat_u+republican_u))*math.log(((democrat_u)/(democrat_u+republican_u)),2)\n",
    "sixth = (democrat_u+republican_u)/(len(data))\n",
    "\n",
    "\n",
    "abs(first*second+third*fourth+fifth*sixth)"
   ]
  },
  {
   "cell_type": "code",
   "execution_count": 43,
   "metadata": {},
   "outputs": [],
   "source": [
    "import math"
   ]
  },
  {
   "cell_type": "code",
   "execution_count": 48,
   "metadata": {},
   "outputs": [
    {
     "data": {
      "text/plain": [
       "0.6931471805599453"
      ]
     },
     "execution_count": 48,
     "metadata": {},
     "output_type": "execute_result"
    }
   ],
   "source": [
    "math.log(2)"
   ]
  },
  {
   "cell_type": "code",
   "execution_count": null,
   "metadata": {},
   "outputs": [],
   "source": [
    "## For this function, we should use dictionaries to store attributes: values\n",
    "## one of their values should be a dict with number of democrats and number of republicans \n",
    "## I was stuck on how to a)Create this dict and b) how to access different values of it \n",
    "\n",
    "def infogain (examples):\n",
    "    \n",
    "att = data[1].keys()\n",
    "dict = {} \n",
    "l = len(data)\n",
    "entropy = 0.0 \n",
    "gain = 0.0\n",
    "\n",
    "for item in examples: \n",
    "    for attribute in att:\n",
    "        if value of item[attribute] in dict\n",
    "        count of item in dictionary +1 \n",
    "            if class of item is already included\n",
    "                class +=1 \n",
    "            else:\n",
    "                class =1 \n",
    "        else: \n",
    "        count of item = 1 \n",
    "        class of item +1 \n",
    "\n",
    "#results in a dictionary with {attribute:values}\n",
    "#eg: {handicapped infants: y, democrats:, republicans:, n...., ?...}\n",
    "l = len(examples)\n",
    "\n",
    "for value in dict (y/n/?):\n",
    "    for nextvalue in next dict:\n",
    "     entropy += nextvalue/(sum of democrats and republicans)*math.log(nextvalue/sum of democrats and republicans)\n",
    "     gain += value/len(examples)*entropy \n",
    "     return abs(gain)"
   ]
  },
  {
   "cell_type": "code",
   "execution_count": 384,
   "metadata": {},
   "outputs": [],
   "source": [
    "\n",
    "def ID3(examples, default):\n",
    "    '''\n",
    "  Takes in an array of examples, and returns a tree (an instance of Node) \n",
    "  trained on the examples.  Each example is a dictionary of attribute:value pairs,\n",
    "  and the target class variable is a special attribute with the name \"Class\".\n",
    "  Any missing attributes are denoted with a value of \"?\"\n",
    "  '''\n",
    "\n",
    "    lst = []\n",
    "    for example in examples:\n",
    "        lst.append(example['Class'])\n",
    "    t = Node()\n",
    "\n",
    "    if len(examples) == 0:\n",
    "\n",
    "    # return an empty node\n",
    "        t.addLabel(default)\n",
    "        return t\n",
    "    \n",
    "    elif lst[1:] == lst[:-1]:\n",
    "\n",
    "  # elif ALL EXAMPLES ARE THE SAME or CANNOT SPLIT EASILY:\n",
    "    # Node.Node(Mode(examples), examples.\n",
    "                            # include check for non trivial splits\n",
    "        t.addLabel(Mode(examples))\n",
    "        return t\n",
    "\n",
    "    else:\n",
    "\n",
    "        values = []\n",
    "        best = chooseBestAttribute(examples,'Class')\n",
    "        print best\n",
    "        t.attribute = best \n",
    "\n",
    "        for item in examples:\n",
    "            if item[best] not in values:\n",
    "                values.append(item[best])\n",
    "\n",
    "        for val in values:\n",
    "            examplesi = []\n",
    "            for example in examples:\n",
    "                if example[best] == val:\n",
    "                    examplesi.append(example)\n",
    "            subtree = ID3(removeAtt(examplesi,best), Mode(examples))\n",
    "            t.addBranch(subtree, val)\n",
    "        return t"
   ]
  },
  {
   "cell_type": "code",
   "execution_count": 212,
   "metadata": {},
   "outputs": [],
   "source": [
    "\n",
    "def Mode(examples):\n",
    "  modeDic = {}\n",
    "  for example in examples:\n",
    "    if example['Class'] not in modeDic.keys():\n",
    "      modeDic[example['Class']] = 1\n",
    "    else:\n",
    "      modeDic[example['Class']] += 1\n",
    "\n",
    "  #If the lengths are the same, it takes the attribute that appears first in the dictionary\n",
    "\n",
    "  return max(modeDic, key=modeDic.get)\n"
   ]
  },
  {
   "cell_type": "code",
   "execution_count": 258,
   "metadata": {},
   "outputs": [],
   "source": [
    "def chooseBestAttribute(examples, targetAtt):\n",
    "    '''\n",
    "\n",
    "  KEEP COUNT OF :\n",
    "  total amount of each attribute - eg: handicapped - # of yes, # of no, # of q...\n",
    "  within the particular value of an attribute - #democrat, # republican\n",
    "  '''\n",
    "\n",
    "    countDict = {}\n",
    "\n",
    "  # TODO: TAKE OUT CLASS FROM ATTRIBUTES\n",
    "\n",
    "  # Going through each example\n",
    "\n",
    "    for example in examples:\n",
    "\n",
    "      # Getting all the attributes from that example\n",
    "\n",
    "        for (attribute, value) in example.iteritems():\n",
    "\n",
    "          # Checking if that one attribute has already been looked at for other examples\n",
    "\n",
    "            if attribute in countDict.keys():\n",
    "\n",
    "              # if it has that attribute, check to see if that value has already been looked at for that attribute for other examples\n",
    "\n",
    "                if value in countDict[attribute].keys():\n",
    "\n",
    "                  # If it has that value, check to see if that value of the targetAtt has been looked at for that value of that attribute for other examples\n",
    "\n",
    "                    if example[targetAtt] \\\n",
    "                        in countDict[attribute][value].keys():\n",
    "\n",
    "                      # If that value of that target attribute has already been looked at for this value of this attribute of this example, just incrememt it\n",
    "\n",
    "                        countDict[attribute][value][example[targetAtt]] += \\\n",
    "                            1\n",
    "                    else:\n",
    "\n",
    "                      # Otherwise add that value of that target attribute to the dictionary\n",
    "\n",
    "                        countDict[attribute][value][example[targetAtt]] = \\\n",
    "                            1\n",
    "                else:\n",
    "\n",
    "                  # Does not have the value, add that value and value of the TargetAtt to the dictionary\n",
    "\n",
    "                    countDict[attribute][value] = {}\n",
    "                    countDict[attribute][value][example[targetAtt]] = 1\n",
    "            else:\n",
    "                countDict[attribute] = {}\n",
    "                countDict[attribute][value] = {}\n",
    "                countDict[attribute][value][example[targetAtt]] = 1\n",
    "    \n",
    "    print countDict \n",
    "\n",
    "  # EXAMPLE OF WHAT THE DICTIONARY ^^^ THAT WOULD CREATE\n",
    "  # {{att1:\n",
    "  #         {x: {'democrat': 0, 'republican': 0}},\n",
    "  #         {y: {'democrat': 5, 'republican': 2}},\n",
    "  #         {z: {'democrat': 2, 'republican': 6}},\n",
    "  #         {?: {'democrat': 0, 'republican': 1}}},\n",
    "  #  {att2:\n",
    "  #         {x: {'democrat': 0, 'republican': 0}},\n",
    "  #         {y: {'democrat': 5, 'republican': 2}},\n",
    "  #         {z: {'democrat': 2, 'republican': 6}},\n",
    "  #         {?: {'democrat': 0, 'republican': 1}}}}\n",
    "\n",
    "    entropy = 0.0\n",
    "    gain = 0.0\n",
    "    attributeCount = 0\n",
    "    valCount = 0\n",
    "    best = ''\n",
    "\n",
    "    for (attribute, value) in countDict.iteritems():\n",
    "        newGain = 0.0\n",
    "        attributeCount = 0.0\n",
    "        valueResults = []\n",
    "        valueTotals = []\n",
    "        for (val, targetAtts) in value.iteritems():\n",
    "            itemCounts = []\n",
    "            valTotal = 0.0\n",
    "            valResult = 0.0\n",
    "            for (item, count) in targetAtts.iteritems():\n",
    "                valTotal += count\n",
    "                itemCounts.append(count)\n",
    "\n",
    "            for num in itemCounts:\n",
    "                valResult += num / valTotal * math.log(num / valTotal,\n",
    "                        2)\n",
    "\n",
    "            attributeCount += valCount\n",
    "            valueResults.append(valResult)\n",
    "            valueTotals.append(valTotal)\n",
    "\n",
    "        for (counter, num) in enumerate(valueResults):\n",
    "            newGain += valueTotals[counter] / len(examples) * num\n",
    "\n",
    "        if abs(newGain) >= gain:\n",
    "            gain = abs(newGain)\n",
    "            best = attribute\n",
    "\n",
    "    return best"
   ]
  },
  {
   "cell_type": "code",
   "execution_count": 385,
   "metadata": {},
   "outputs": [],
   "source": []
  },
  {
   "cell_type": "code",
   "execution_count": 263,
   "metadata": {},
   "outputs": [],
   "source": [
    "def testID3AndEvaluate():\n",
    "  data = [dict(a=1, b=0, Class=1), dict(a=1, b=1, Class=1)]\n",
    "  tree = ID3(data, 0)\n",
    "  if tree != None:\n",
    "    ans = evaluate(tree, dict(a=1, b=0))\n",
    "    if ans != 1:\n",
    "      print \"ID3 test failed.\"\n",
    "    else:\n",
    "      print \"ID3 test succeeded.\"\n",
    "  else:\n",
    "    print \"ID3 test failed -- no tree returned\"\n"
   ]
  },
  {
   "cell_type": "code",
   "execution_count": 265,
   "metadata": {},
   "outputs": [],
   "source": [
    "def evaluate(node, example):\n",
    "    '''\n",
    "  Takes in a tree and one example.  Returns the Class value that the tree\n",
    "  assigns to the example.\n",
    "  '''\n",
    "\n",
    "    if type(node) is str:\n",
    "        return node\n",
    "\n",
    "  # while node.children:\n",
    "  #   val = example[node.attribute]\n",
    "  #   node = node.children[val]\n",
    "\n",
    "    while type(node) is not str:\n",
    "        val = example[node.attribute]\n",
    "        node = node.children[val]\n",
    "\n",
    "    return node"
   ]
  },
  {
   "cell_type": "code",
   "execution_count": 386,
   "metadata": {},
   "outputs": [],
   "source": [
    "import copy \n",
    "\n",
    "def removeAtt(examples,attribute):\n",
    "    copy = examples.deepcopy()\n",
    "\n",
    "    for example in copy:\n",
    "        if example.has_key(attribute):\n",
    "            del example[attribute]\n",
    "\n",
    "    return copy"
   ]
  },
  {
   "cell_type": "code",
   "execution_count": null,
   "metadata": {},
   "outputs": [],
   "source": [
    "ID3(trainData)"
   ]
  }
 ],
 "metadata": {
  "kernelspec": {
   "display_name": "Python 2",
   "language": "python",
   "name": "python2"
  },
  "language_info": {
   "codemirror_mode": {
    "name": "ipython",
    "version": 2
   },
   "file_extension": ".py",
   "mimetype": "text/x-python",
   "name": "python",
   "nbconvert_exporter": "python",
   "pygments_lexer": "ipython2",
   "version": "2.7.14"
  }
 },
 "nbformat": 4,
 "nbformat_minor": 1
}
