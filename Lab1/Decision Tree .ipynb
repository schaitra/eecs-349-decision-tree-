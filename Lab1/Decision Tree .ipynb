{
 "cells": [
  {
   "cell_type": "code",
   "execution_count": 8,
   "metadata": {},
   "outputs": [],
   "source": [
    "import csv\n",
    "\n",
    "def parse(filename):\n",
    "  '''\n",
    "  takes a filename and returns attribute information and all the data in array of dictionaries\n",
    "  '''\n",
    "  # initialize variables\n",
    "\n",
    "  out = []  \n",
    "  csvfile = open(filename,'rb')\n",
    "  fileToRead = csv.reader(csvfile)\n",
    "\n",
    "  headers = fileToRead.next()\n",
    "\n",
    "  # iterate through rows of actual data\n",
    "  for row in fileToRead:\n",
    "    out.append(dict(zip(headers, row)))\n",
    "  return out\n",
    "\n",
    "data = parse(\"house_votes_84.data\")"
   ]
  },
  {
   "cell_type": "code",
   "execution_count": 9,
   "metadata": {},
   "outputs": [
    {
     "name": "stdout",
     "output_type": "stream",
     "text": [
      "Number of Observations: 435\n",
      "Number of Attributes: 17\n"
     ]
    }
   ],
   "source": [
    "#Exploring the data \n",
    "print \"Number of Observations:\" , len(data)\n",
    "data[1:3]\n",
    "attributes = data[1].keys()\n",
    "print \"Number of Attributes:\" ,len(attributes)"
   ]
  },
  {
   "cell_type": "code",
   "execution_count": 19,
   "metadata": {},
   "outputs": [
    {
     "name": "stdout",
     "output_type": "stream",
     "text": [
      "168\n",
      "267\n",
      "0\n"
     ]
    }
   ],
   "source": [
    "republican = 0 \n",
    "democrat = 0 \n",
    "question = 0\n",
    "for item in data: \n",
    "    if item['Class'] == \"republican\":\n",
    "        republican = republican+1 \n",
    "    elif item['Class'] == 'democrat':\n",
    "        democrat = democrat + 1 \n",
    "    else:\n",
    "        question = question+1\n",
    "print republican \n",
    "print democrat\n",
    "print question"
   ]
  },
  {
   "cell_type": "code",
   "execution_count": 38,
   "metadata": {},
   "outputs": [],
   "source": [
    "republican = 0 \n",
    "democrat = 0 \n",
    "question = 0\n",
    "for item in data: \n",
    "    if item['Class'] == \"republican\":\n",
    "        republican = republican+1 \n",
    "    elif item['Class'] == 'democrat':\n",
    "        democrat = democrat + 1 \n",
    "    else:\n",
    "        question = question+1"
   ]
  },
  {
   "cell_type": "code",
   "execution_count": 47,
   "metadata": {},
   "outputs": [
    {
     "name": "stdout",
     "output_type": "stream",
     "text": [
      "187.0 236.0 12.0\n",
      "156.0 31.0 102.0 134.0 9.0 3.0\n"
     ]
    },
    {
     "data": {
      "text/plain": [
       "0.3861386971201965"
      ]
     },
     "execution_count": 47,
     "metadata": {},
     "output_type": "execute_result"
    }
   ],
   "source": [
    "yes = 0.0\n",
    "no = 0.0\n",
    "u = 0.0 \n",
    "democrat_y =0.0 \n",
    "republican_y = 0.0 \n",
    "democrat_n =0.0 \n",
    "republican_n = 0.0 \n",
    "democrat_u =0.0\n",
    "republican_u = 0.0\n",
    "\n",
    "\n",
    "for item in data: \n",
    "    if item['handicapped-infants'] == 'y':\n",
    "        yes+=1 \n",
    "        if item['Class']=='democrat':\n",
    "            democrat_y+=1\n",
    "        else:\n",
    "            republican_y+=1\n",
    "    elif item['handicapped-infants']=='n':\n",
    "        no+=1 \n",
    "        if item['Class']=='democrat':\n",
    "            democrat_n+=1\n",
    "        else:\n",
    "            republican_n+=1\n",
    "    else:\n",
    "        u+=1\n",
    "        if item['Class']=='democrat':\n",
    "            democrat_u+=1\n",
    "        else:\n",
    "            republican_u+=1\n",
    "print yes,no,u\n",
    "print democrat_y,republican_y,democrat_n,republican_n,democrat_u,republican_u\n",
    "l = len(data)\n",
    "\n",
    "first = ((democrat_y)/(democrat_y+republican_y))*math.log(((democrat_y)/(democrat_y+republican_y)),2)\n",
    "second= (democrat_y+republican_y)/(len(data))\n",
    "\n",
    "third = ((democrat_n)/(democrat_n+republican_n))*math.log(((democrat_n)/(democrat_n+republican_n)),2)\n",
    "fourth = (democrat_n+republican_n)/(len(data))\n",
    "\n",
    "fifth = ((democrat_u)/(democrat_u+republican_u))*math.log(((democrat_u)/(democrat_u+republican_u)),2)\n",
    "sixth = (democrat_u+republican_u)/(len(data))\n",
    "\n",
    "\n",
    "abs(first*second+third*fourth+fifth*sixth)"
   ]
  },
  {
   "cell_type": "code",
   "execution_count": 43,
   "metadata": {},
   "outputs": [],
   "source": [
    "import math"
   ]
  },
  {
   "cell_type": "code",
   "execution_count": 48,
   "metadata": {},
   "outputs": [
    {
     "data": {
      "text/plain": [
       "0.6931471805599453"
      ]
     },
     "execution_count": 48,
     "metadata": {},
     "output_type": "execute_result"
    }
   ],
   "source": [
    "math.log(2)"
   ]
  },
  {
   "cell_type": "code",
   "execution_count": null,
   "metadata": {},
   "outputs": [],
   "source": [
    "## For this function, we should use dictionaries to store attributes: values\n",
    "## one of their values should be a dict with number of democrats and number of republicans \n",
    "## I was stuck on how to a)Create this dict and b) how to access different values of it \n",
    "\n",
    "def infogain (examples):\n",
    "    \n",
    "att = data[1].keys()\n",
    "dict = {} \n",
    "l = len(data)\n",
    "entropy = 0.0 \n",
    "gain = 0.0\n",
    "\n",
    "for item in examples: \n",
    "    for attribute in att:\n",
    "        if value of item[attribute] in dict\n",
    "        count of item in dictionary +1 \n",
    "            if class of item is already included\n",
    "                class +=1 \n",
    "            else:\n",
    "                class =1 \n",
    "        else: \n",
    "        count of item = 1 \n",
    "        class of item +1 \n",
    "\n",
    "#results in a dictionary with {attribute:values}\n",
    "#eg: {handicapped infants: y, democrats:, republicans:, n...., ?...}\n",
    "l = len(examples)\n",
    "\n",
    "for value in dict (y/n/?):\n",
    "    for nextvalue in next dict:\n",
    "     entropy += nextvalue/(sum of democrats and republicans)*math.log(nextvalue/sum of democrats and republicans)\n",
    "     gain += value/len(examples)*entropy \n",
    "     return abs(gain)"
   ]
  },
  {
   "cell_type": "code",
   "execution_count": 77,
   "metadata": {},
   "outputs": [],
   "source": [
    "def infogain(examples, targetAtt):\n",
    "    '''\n",
    "\n",
    "    KEEP COUNT OF :\n",
    "    total amount of each attribute - eg: handicapped - # of yes, # of no, # of q...\n",
    "    within the particular value of an attribute - #democrat, # republican\n",
    "    '''\n",
    "\n",
    "    # Array of all attributes without 'democrat' or 'republican' (Class)\n",
    "    # att = examples[1].keys()\n",
    "    # del att['Class']\n",
    "    #\n",
    "    # l = len(examples)\n",
    "\n",
    "\n",
    "    # for item in examples:\n",
    "    #     for attribute in att:\n",
    "    #         if value of example[attribute] in dict:\n",
    "    #\n",
    "    #             count of item in dictionary +1\n",
    "    #\n",
    "    #             if class of item is already included\n",
    "    #                 class +=1\n",
    "    #             else:\n",
    "    #                 class = 1\n",
    "    #         else:\n",
    "    #         count of item = 1\n",
    "    #         class of item +1\n",
    "\n",
    "    countDict = {}\n",
    "\n",
    "    #Going through each example\n",
    "    for example in examples:\n",
    "        #Getting all the attributes from that example\n",
    "        for attribute, value in example.iteritems():\n",
    "            #Checking if that one attribute has already been looked at for other examples\n",
    "            if attribute in countDict.keys():\n",
    "                #if it has that attribute, check to see if that value has already been looked at for that attribute for other examples\n",
    "                if value in countDict[attribute].keys():\n",
    "                    #If it has that value, check to see if that value of the targetAtt has been looked at for that value of that attribute for other examples\n",
    "                    if example[targetAtt] in countDict[attribute][value].keys():\n",
    "                        #If that value of that target attribute has already been looked at for this value of this attribute of this example, just incrememt it\n",
    "                        countDict[attribute][value][example[targetAtt]] += 1\n",
    "\n",
    "                    else:\n",
    "                        #Otherwise add that value of that target attribute to the dictionary\n",
    "                        countDict[attribute][value][example[targetAtt]] = 1\n",
    "                else:\n",
    "                    #Does not have the value, add that value and value of the TargetAtt to the dictionary\n",
    "                    countDict[attribute][value] = {}\n",
    "                    countDict[attribute][value][example[targetAtt]] = 1\n",
    "            else:\n",
    "                countDict[attribute] = {}\n",
    "                countDict[attribute][value] = {}\n",
    "                countDict[attribute][value][example[targetAtt]] = 1\n",
    "   \n",
    "    print countDict\n",
    "\n",
    "    # EXAMPLE OF WHAT THE DICTIONARY ^^^ THAT WOULD CREATE\n",
    "    # {{att1:\n",
    "    #         {x: {'democrat': 0, 'republican': 0}},\n",
    "    #         {y: {'democrat': 5, 'republican': 2}},\n",
    "    #         {z: {'democrat': 2, 'republican': 6}},\n",
    "    #         {?: {'democrat': 0, 'republican': 1}}},\n",
    "    #  {att2:\n",
    "    #         {x: {'democrat': 0, 'republican': 0}},\n",
    "    #         {y: {'democrat': 5, 'republican': 2}},\n",
    "    #         {z: {'democrat': 2, 'republican': 6}},\n",
    "    #         {?: {'democrat': 0, 'republican': 1}}}}\n",
    "\n",
    "\n",
    "    entropy = 0.0\n",
    "    gain = 0.0\n",
    "    attributeCount = 0\n",
    "    valCount = 0\n",
    "    best = \"\"\n",
    "\n",
    "    for attribute, value in countDict.iteritems():\n",
    "        newGain = 0.0\n",
    "        attributeCount =0.0\n",
    "        valueResults = []\n",
    "        valueTotals = []\n",
    "        for val, targetAtts in value.iteritems():\n",
    "            itemCounts = []\n",
    "            valTotal = 0.0\n",
    "            valResult = 0.0\n",
    "            for item, count in targetAtts.iteritems():\n",
    "                valTotal += count\n",
    "                itemCounts.append(count)\n",
    "\n",
    "            for num in itemCounts:\n",
    "                valResult += (num/valTotal) * math.log((num/valTotal),2)\n",
    "\n",
    "            attributeCount += valCount\n",
    "            valueResults.append(valResult)\n",
    "            valueTotals.append(valTotal)\n",
    "\n",
    "        for counter, num in enumerate(valueResults):\n",
    "            newGain += (valueTotals[counter]/len(examples)) * num\n",
    "\n",
    "        if abs(newGain) > gain:\n",
    "            gain = abs(newGain)\n",
    "            best = attribute\n",
    "\n",
    "    print gain,best\n",
    "    return best\n"
   ]
  },
  {
   "cell_type": "code",
   "execution_count": 78,
   "metadata": {},
   "outputs": [
    {
     "name": "stdout",
     "output_type": "stream",
     "text": [
      "{'handicapped-infants': {'y': {'republican': 31, 'democrat': 156}, '?': {'republican': 3, 'democrat': 9}, 'n': {'republican': 134, 'democrat': 102}}, 'Class': {'republican': {'republican': 168}, 'democrat': {'democrat': 267}}, 'water-project-cost-sharing': {'y': {'republican': 75, 'democrat': 120}, '?': {'republican': 20, 'democrat': 28}, 'n': {'republican': 73, 'democrat': 119}}, 'education-spending': {'y': {'republican': 135, 'democrat': 36}, '?': {'republican': 13, 'democrat': 18}, 'n': {'republican': 20, 'democrat': 213}}, 'synfuels-corporation-cutback': {'y': {'republican': 21, 'democrat': 129}, '?': {'republican': 9, 'democrat': 12}, 'n': {'republican': 138, 'democrat': 126}}, 'immigration': {'y': {'republican': 92, 'democrat': 124}, '?': {'republican': 3, 'democrat': 4}, 'n': {'republican': 73, 'democrat': 139}}, 'export-administration-act-south-africa': {'y': {'republican': 96, 'democrat': 173}, '?': {'republican': 22, 'democrat': 82}, 'n': {'republican': 50, 'democrat': 12}}, 'el-salvador-aid': {'y': {'republican': 157, 'democrat': 55}, '?': {'republican': 3, 'democrat': 12}, 'n': {'republican': 8, 'democrat': 200}}, 'superfund-right-to-sue': {'y': {'republican': 136, 'democrat': 73}, '?': {'republican': 10, 'democrat': 15}, 'n': {'republican': 22, 'democrat': 179}}, 'mx-missile': {'y': {'republican': 19, 'democrat': 188}, '?': {'republican': 3, 'democrat': 19}, 'n': {'republican': 146, 'democrat': 60}}, 'religious-groups-in-schools': {'y': {'republican': 149, 'democrat': 123}, '?': {'republican': 2, 'democrat': 9}, 'n': {'republican': 17, 'democrat': 135}}, 'adoption-of-the-budget-resolution': {'y': {'republican': 22, 'democrat': 231}, '?': {'republican': 4, 'democrat': 7}, 'n': {'republican': 142, 'democrat': 29}}, 'anti-satellite-test-ban': {'y': {'republican': 39, 'democrat': 200}, '?': {'republican': 6, 'democrat': 8}, 'n': {'republican': 123, 'democrat': 59}}, 'duty-free-exports': {'y': {'republican': 14, 'democrat': 160}, '?': {'republican': 12, 'democrat': 16}, 'n': {'republican': 142, 'democrat': 91}}, 'crime': {'y': {'republican': 158, 'democrat': 90}, '?': {'republican': 7, 'democrat': 10}, 'n': {'republican': 3, 'democrat': 167}}, 'aid-to-nicaraguan-contras': {'y': {'republican': 24, 'democrat': 218}, '?': {'republican': 11, 'democrat': 4}, 'n': {'republican': 133, 'democrat': 45}}, 'physician-fee-freeze': {'y': {'republican': 163, 'democrat': 14}, '?': {'republican': 3, 'democrat': 8}, 'n': {'republican': 2, 'democrat': 245}}}\n",
      "0.961947429303 water-project-cost-sharing\n"
     ]
    },
    {
     "data": {
      "text/plain": [
       "'water-project-cost-sharing'"
      ]
     },
     "execution_count": 78,
     "metadata": {},
     "output_type": "execute_result"
    }
   ],
   "source": []
  },
  {
   "cell_type": "code",
   "execution_count": 88,
   "metadata": {},
   "outputs": [
    {
     "data": {
      "text/plain": [
       "True"
      ]
     },
     "execution_count": 88,
     "metadata": {},
     "output_type": "execute_result"
    }
   ],
   "source": [
    "vals = []\n",
    "# for item in data: \n",
    "#     vals.append(item['Class'])\n",
    "vals[1:] == vals[:-1]"
   ]
  },
  {
   "cell_type": "code",
   "execution_count": 89,
   "metadata": {},
   "outputs": [
    {
     "data": {
      "text/plain": [
       "{'Class': 'republican',\n",
       " 'adoption-of-the-budget-resolution': 'n',\n",
       " 'aid-to-nicaraguan-contras': 'n',\n",
       " 'anti-satellite-test-ban': 'n',\n",
       " 'crime': 'y',\n",
       " 'duty-free-exports': 'n',\n",
       " 'education-spending': 'y',\n",
       " 'el-salvador-aid': 'y',\n",
       " 'export-administration-act-south-africa': 'y',\n",
       " 'handicapped-infants': 'n',\n",
       " 'immigration': 'y',\n",
       " 'mx-missile': 'n',\n",
       " 'physician-fee-freeze': 'y',\n",
       " 'religious-groups-in-schools': 'y',\n",
       " 'superfund-right-to-sue': 'y',\n",
       " 'synfuels-corporation-cutback': '?',\n",
       " 'water-project-cost-sharing': 'y'}"
      ]
     },
     "execution_count": 89,
     "metadata": {},
     "output_type": "execute_result"
    }
   ],
   "source": [
    "data[0]"
   ]
  },
  {
   "cell_type": "code",
   "execution_count": null,
   "metadata": {},
   "outputs": [],
   "source": []
  }
 ],
 "metadata": {
  "kernelspec": {
   "display_name": "Python 2",
   "language": "python",
   "name": "python2"
  },
  "language_info": {
   "codemirror_mode": {
    "name": "ipython",
    "version": 2
   },
   "file_extension": ".py",
   "mimetype": "text/x-python",
   "name": "python",
   "nbconvert_exporter": "python",
   "pygments_lexer": "ipython2",
   "version": "2.7.14"
  }
 },
 "nbformat": 4,
 "nbformat_minor": 1
}
