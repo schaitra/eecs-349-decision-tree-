{
 "cells": [
  {
   "cell_type": "code",
   "execution_count": 1,
   "metadata": {},
   "outputs": [],
   "source": [
    "import csv\n",
    "\n",
    "def parse(filename):\n",
    "  '''\n",
    "  takes a filename and returns attribute information and all the data in array of dictionaries\n",
    "  '''\n",
    "  # initialize variables\n",
    "\n",
    "  out = []  \n",
    "  csvfile = open(filename,'rb')\n",
    "  fileToRead = csv.reader(csvfile)\n",
    "\n",
    "  headers = fileToRead.next()\n",
    "\n",
    "  # iterate through rows of actual data\n",
    "  for row in fileToRead:\n",
    "    out.append(dict(zip(headers, row)))\n",
    "  return out\n",
    "\n",
    "data = parse(\"house_votes_84.data\")"
   ]
  },
  {
   "cell_type": "code",
   "execution_count": 28,
   "metadata": {},
   "outputs": [
    {
     "ename": "IndentationError",
     "evalue": "unindent does not match any outer indentation level (<ipython-input-28-fbe08786293f>, line 36)",
     "output_type": "error",
     "traceback": [
      "\u001b[0;36m  File \u001b[0;32m\"<ipython-input-28-fbe08786293f>\"\u001b[0;36m, line \u001b[0;32m36\u001b[0m\n\u001b[0;31m    return countDict\u001b[0m\n\u001b[0m                    ^\u001b[0m\n\u001b[0;31mIndentationError\u001b[0m\u001b[0;31m:\u001b[0m unindent does not match any outer indentation level\n"
     ]
    }
   ],
   "source": [
    "\n",
    "def getCountDict(examples):\n",
    "  '''\n",
    "\n",
    "  KEEP COUNT OF :\n",
    "  total amount of each attribute - eg: handicapped - # of yes, # of no, # of q...\n",
    "  within the particular value of an attribute - #democrat, # republican\n",
    "  '''\n",
    "\n",
    "  countDict = {}\n",
    "\n",
    "  # Going through each example\n",
    "\n",
    "  for example in examples:\n",
    "\n",
    "    # Getting all the attributes from that example\n",
    "\n",
    "    for (attribute, val) in example.iteritems():\n",
    "\n",
    "      # Removing Class \n",
    "\n",
    "        if attribute == targetAtt:\n",
    "            pass\n",
    "\n",
    "      # Checking if that one attribute has already been looked at for other examples\n",
    "\n",
    "        elif countDict.has_key(attribute):\n",
    "          if countDict[attribute].has_key(val):\n",
    "            countDict[attribute] += 1\n",
    "          else:\n",
    "            countDict[attribute][val]=1\n",
    "        else:\n",
    "          value = {}\n",
    "          value[val] = 1\n",
    "          countDict[attribute] = value\n",
    "      return countDict"
   ]
  },
  {
   "cell_type": "code",
   "execution_count": 57,
   "metadata": {},
   "outputs": [],
   "source": [
    "\n",
    "def getCountDict(examples):\n",
    "  '''\n",
    "\n",
    "  KEEP COUNT OF :\n",
    "  total amount of each attribute - eg: handicapped - # of yes, # of no, # of q...\n",
    "  within the particular value of an attribute - #democrat, # republican\n",
    "  '''\n",
    "\n",
    "  countDict = {}\n",
    "\n",
    "  # Going through each example\n",
    "\n",
    "  for example in examples:\n",
    "\n",
    "    # Getting all the attributes from that example\n",
    "\n",
    "    for (attribute, val) in example.iteritems():\n",
    "\n",
    "      # Removing Class \n",
    "\n",
    "       \n",
    "\n",
    "      # Checking if that one attribute has already been looked at for other examples\n",
    "\n",
    "        if countDict.has_key(attribute):\n",
    "          if countDict[attribute].has_key(val):\n",
    "            countDict[attribute][val] += 1\n",
    "          else:\n",
    "            countDict[attribute][val]=1\n",
    "        else:\n",
    "          value = {}\n",
    "          value[val] = 1\n",
    "          countDict[attribute] = value\n",
    "  return countDict\n"
   ]
  },
  {
   "cell_type": "code",
   "execution_count": 36,
   "metadata": {},
   "outputs": [
    {
     "data": {
      "text/plain": [
       "{'a': {1: 2, 2: 2, 3: 2},\n",
       " 'b': {0: 2, 1: 1, 2: 1, 3: 1, '?': 1},\n",
       " 'c': {1: 2, 2: 1, 3: 1, '?': 2}}"
      ]
     },
     "execution_count": 36,
     "metadata": {},
     "output_type": "execute_result"
    }
   ],
   "source": [
    "getCountDict(data,'Class')"
   ]
  },
  {
   "cell_type": "code",
   "execution_count": 35,
   "metadata": {},
   "outputs": [],
   "source": [
    "data = [dict(a=1, b=0, c='?', Class=1), dict(a=1, b=3, c=2, Class=1),\n",
    "         dict(a=2, b='?', c=1, Class=2), dict(a=2, b=1, c=3, Class=2),\n",
    "         dict(a=3, b=0, c=1, Class=3), dict(a=3, b=2, c='?', Class=3)]"
   ]
  },
  {
   "cell_type": "code",
   "execution_count": 159,
   "metadata": {},
   "outputs": [],
   "source": [
    "def chooseBestAttribute(examples):\n",
    "\n",
    "    countDict = getCountDict(examples)\n",
    "\n",
    "    entropy = 0.0\n",
    "    gain = float(\"inf\")\n",
    "    best = ''\n",
    "\n",
    "    for (attribute, value) in countDict.iteritems():\n",
    "        print attribute\n",
    "        newGain = 0.0\n",
    "        valueResults = []\n",
    "        valueTotals = []\n",
    "        itemCounts = []\n",
    "        valTotal = 0.0\n",
    "        valResult = 0.0\n",
    "        classcounts = []\n",
    "\n",
    "        if attribute == 'Class':\n",
    "            for att,value in countDict['Class'].iteritems():\n",
    "                classcounts.append(value)\n",
    "                print 'att = class'\n",
    "            print classcounts    \n",
    "\n",
    "\n",
    "        else: \n",
    "            for (val, counts) in value.iteritems():\n",
    "                valTotal += counts\n",
    "                itemCounts.append(counts)\n",
    "                \n",
    "\n",
    "                for num in itemCounts:\n",
    "                    for y in classcounts:\n",
    "                        print ('num',num,'y',y)\n",
    "                        valResult -= num / y * math.log(num / y,2)\n",
    "                        valueResults.append(valResult)\n",
    "           \n",
    "        print valueResults   \n",
    "    \n",
    "        for counts in classcounts:\n",
    "            print counts\n",
    "            for value in valueResults:\n",
    "                print value\n",
    "                newGain += counts / len(examples) * value\n",
    "                print newGain\n",
    "                if newGain<=gain:\n",
    "                    gain = newGain \n",
    "                    best = attribute\n",
    "\n",
    "    return best\n",
    "\n",
    "def ent (examples,attribute):\n",
    "    "
   ]
  },
  {
   "cell_type": "code",
   "execution_count": 160,
   "metadata": {},
   "outputs": [
    {
     "name": "stdout",
     "output_type": "stream",
     "text": [
      "a\n",
      "[]\n",
      "c\n",
      "[]\n",
      "b\n",
      "[]\n",
      "Class\n",
      "[]\n"
     ]
    },
    {
     "data": {
      "text/plain": [
       "''"
      ]
     },
     "execution_count": 160,
     "metadata": {},
     "output_type": "execute_result"
    }
   ],
   "source": [
    "chooseBestAttribute(data)"
   ]
  },
  {
   "cell_type": "code",
   "execution_count": 102,
   "metadata": {},
   "outputs": [
    {
     "name": "stdout",
     "output_type": "stream",
     "text": [
      "a {1: 2, 2: 2, 3: 2}\n",
      "1 2\n",
      "2 2\n",
      "3 2\n",
      "c {1: 2, 2: 1, 3: 1, '?': 2}\n",
      "1 2\n",
      "2 1\n",
      "3 1\n",
      "? 2\n",
      "b {0: 2, 1: 1, 2: 1, 3: 1, '?': 1}\n",
      "0 2\n",
      "1 1\n",
      "2 1\n",
      "3 1\n",
      "? 1\n",
      "Class {1: 2, 2: 2, 3: 2}\n"
     ]
    }
   ],
   "source": [
    "countDict = getCountDict(data)\n",
    "#print countDict\n",
    "#classcounts=[]\n",
    "#for a,y in countDict['Class'].iteritems():\n",
    "#    classcounts.append(y)\n",
    "#print classcounts\n",
    "for (attribute, value) in countDict.iteritems():\n",
    "    \n",
    "    print attribute,value\n",
    "    if attribute!='Class':\n",
    "        for (val,key) in value.iteritems():\n",
    "            print val,key"
   ]
  },
  {
   "cell_type": "code",
   "execution_count": 163,
   "metadata": {},
   "outputs": [],
   "source": [
    "def entropy(examples, attribute):\n",
    "  '''Takes an array of examples and calculates the entropy'''\n",
    "  allinfo = setAttrAndCount(examples)\n",
    "  entropy = 0\n",
    "  for value, count in  allinfo[attribute].iteritems():\n",
    "    prob = float(count)/len(examples)\n",
    "    entropy -= prob*math.log(prob, 2)\n",
    "  return entropy\n",
    "\n",
    "\n",
    "def infoGain(examples, Attr):\n",
    "  '''Calculates information gain of an Attribute from the given examples.'''\n",
    "  allinfo = setAttrAndCount(examples)\n",
    "  summation = 0\n",
    "  for value, count in allinfo[attribute].iteritems():\n",
    "    prob = float(count/len(examples))\n",
    "    summation += prob*entropy([example for example in examples if example[Attr]==value], \"Class\")\n",
    "  gain = entropy(examples, \"Class\") - summation\n",
    "  return gain\n",
    "\n",
    "def setAttrAndCount(examples):\n",
    "  '''Takes in an array of examples (which are dicts).\n",
    "  Returns a nested dictionary of the format attr={value1:numOfOccurences, value2: numOfOccurences, ...}'''\n",
    "  attrDict={}\n",
    "  for example in examples:\n",
    "    for attr, value in example.iteritems():\n",
    "      if attrDict.has_key(attr): # if outerdict has attr as key\n",
    "        if attrDict[attr].has_key(value): # if the innerdict already has the value as a key\n",
    "          attrDict[attr][value] += 1\n",
    "        else: # otherwise create it\n",
    "          attrDict[attr][value] = 1\n",
    "      else:\n",
    "        attrDict[attr] = {value:1} # initialise the dictionary of values\n",
    "  print attrDict\n",
    "  return attrDict"
   ]
  },
  {
   "cell_type": "code",
   "execution_count": 186,
   "metadata": {},
   "outputs": [],
   "source": [
    "\n",
    "def infoGain(examples, Attr):\n",
    "  '''Calculates information gain of an Attribute from the given examples.'''\n",
    "  countDict = getCountDict(examples)\n",
    "  summation = 0.0\n",
    "  gain = 0.0\n",
    "  entropy = 0.0\n",
    "  \n",
    "    \n",
    "  for value, count in countDict[Attr].iteritems():\n",
    "    prob = float(count/len(examples))\n",
    "    check = [example for example in examples if example[Attr]==value]\n",
    "    newdict = getCountDict(check) \n",
    "    for a,b in countDict['Class'].iteritems():\n",
    "        entropy -= (float(b)/len(newdict))*math.log((float(b)/len(newdict)),2)\n",
    "        summation += prob*entropy\n",
    "  gain = gain-summation\n",
    "  return gain "
   ]
  },
  {
   "cell_type": "code",
   "execution_count": 173,
   "metadata": {},
   "outputs": [],
   "source": [
    "def entropy(examples, attribute):\n",
    "  '''Takes an array of examples and calculates the entropy'''\n",
    "  allinfo = setAttrAndCount(examples)\n",
    "  entropy = 0\n",
    "  for value, count in  allinfo[attribute].iteritems():\n",
    "    prob = float(count)/len(examples)\n",
    "    entropy -= prob*math.log(prob, 2)\n",
    "  return entropy"
   ]
  },
  {
   "cell_type": "code",
   "execution_count": 187,
   "metadata": {},
   "outputs": [],
   "source": [
    "def setAttrAndCount(examples):\n",
    "  '''Takes in an array of examples (which are dicts).\n",
    "  Returns a nested dictionary of the format attr={value1:numOfOccurences, value2: numOfOccurences, ...}'''\n",
    "  attrDict={}\n",
    "  for example in examples:\n",
    "    for attr, value in example.iteritems():\n",
    "      if attrDict.has_key(attr): # if outerdict has attr as key\n",
    "        if attrDict[attr].has_key(value): # if the innerdict already has the value as a key\n",
    "          attrDict[attr][value] += 1\n",
    "        else: # otherwise create it\n",
    "          attrDict[attr][value] = 1\n",
    "      else:\n",
    "        attrDict[attr] = {value:1} # initialise the dictionary of values\n",
    "  return attrDict"
   ]
  },
  {
   "cell_type": "code",
   "execution_count": 185,
   "metadata": {},
   "outputs": [
    {
     "data": {
      "text/plain": [
       "0.0"
      ]
     },
     "execution_count": 185,
     "metadata": {},
     "output_type": "execute_result"
    }
   ],
   "source": [
    "infoGain(data,'b')"
   ]
  },
  {
   "cell_type": "code",
   "execution_count": null,
   "metadata": {},
   "outputs": [],
   "source": []
  }
 ],
 "metadata": {
  "kernelspec": {
   "display_name": "Python 2",
   "language": "python",
   "name": "python2"
  },
  "language_info": {
   "codemirror_mode": {
    "name": "ipython",
    "version": 2
   },
   "file_extension": ".py",
   "mimetype": "text/x-python",
   "name": "python",
   "nbconvert_exporter": "python",
   "pygments_lexer": "ipython2",
   "version": "2.7.14"
  }
 },
 "nbformat": 4,
 "nbformat_minor": 2
}
