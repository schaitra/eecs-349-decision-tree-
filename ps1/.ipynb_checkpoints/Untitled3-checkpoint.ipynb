{
 "cells": [
  {
   "cell_type": "code",
   "execution_count": 1,
   "metadata": {},
   "outputs": [],
   "source": [
    "import csv\n",
    "\n",
    "def parse(filename):\n",
    "  '''\n",
    "  takes a filename and returns attribute information and all the data in array of dictionaries\n",
    "  '''\n",
    "  # initialize variables\n",
    "\n",
    "  out = []  \n",
    "  csvfile = open(filename,'rb')\n",
    "  fileToRead = csv.reader(csvfile)\n",
    "\n",
    "  headers = fileToRead.next()\n",
    "\n",
    "  # iterate through rows of actual data\n",
    "  for row in fileToRead:\n",
    "    out.append(dict(zip(headers, row)))\n",
    "  return out\n",
    "\n",
    "data = parse(\"house_votes_84.data\")"
   ]
  },
  {
   "cell_type": "code",
   "execution_count": 28,
   "metadata": {},
   "outputs": [
    {
     "ename": "IndentationError",
     "evalue": "unindent does not match any outer indentation level (<ipython-input-28-fbe08786293f>, line 36)",
     "output_type": "error",
     "traceback": [
      "\u001b[0;36m  File \u001b[0;32m\"<ipython-input-28-fbe08786293f>\"\u001b[0;36m, line \u001b[0;32m36\u001b[0m\n\u001b[0;31m    return countDict\u001b[0m\n\u001b[0m                    ^\u001b[0m\n\u001b[0;31mIndentationError\u001b[0m\u001b[0;31m:\u001b[0m unindent does not match any outer indentation level\n"
     ]
    }
   ],
   "source": [
    "\n",
    "def getCountDict(examples):\n",
    "  '''\n",
    "\n",
    "  KEEP COUNT OF :\n",
    "  total amount of each attribute - eg: handicapped - # of yes, # of no, # of q...\n",
    "  within the particular value of an attribute - #democrat, # republican\n",
    "  '''\n",
    "\n",
    "  countDict = {}\n",
    "\n",
    "  # Going through each example\n",
    "\n",
    "  for example in examples:\n",
    "\n",
    "    # Getting all the attributes from that example\n",
    "\n",
    "    for (attribute, val) in example.iteritems():\n",
    "\n",
    "      # Removing Class \n",
    "\n",
    "        if attribute == targetAtt:\n",
    "            pass\n",
    "\n",
    "      # Checking if that one attribute has already been looked at for other examples\n",
    "\n",
    "        elif countDict.has_key(attribute):\n",
    "          if countDict[attribute].has_key(val):\n",
    "            countDict[attribute] += 1\n",
    "          else:\n",
    "            countDict[attribute][val]=1\n",
    "        else:\n",
    "          value = {}\n",
    "          value[val] = 1\n",
    "          countDict[attribute] = value\n",
    "      return countDict"
   ]
  },
  {
   "cell_type": "code",
   "execution_count": 57,
   "metadata": {},
   "outputs": [],
   "source": [
    "\n",
    "def getCountDict(examples):\n",
    "  '''\n",
    "\n",
    "  KEEP COUNT OF :\n",
    "  total amount of each attribute - eg: handicapped - # of yes, # of no, # of q...\n",
    "  within the particular value of an attribute - #democrat, # republican\n",
    "  '''\n",
    "\n",
    "  countDict = {}\n",
    "\n",
    "  # Going through each example\n",
    "\n",
    "  for example in examples:\n",
    "\n",
    "    # Getting all the attributes from that example\n",
    "\n",
    "    for (attribute, val) in example.iteritems():\n",
    "\n",
    "      # Removing Class \n",
    "\n",
    "       \n",
    "\n",
    "      # Checking if that one attribute has already been looked at for other examples\n",
    "\n",
    "        if countDict.has_key(attribute):\n",
    "          if countDict[attribute].has_key(val):\n",
    "            countDict[attribute][val] += 1\n",
    "          else:\n",
    "            countDict[attribute][val]=1\n",
    "        else:\n",
    "          value = {}\n",
    "          value[val] = 1\n",
    "          countDict[attribute] = value\n",
    "  return countDict\n"
   ]
  },
  {
   "cell_type": "code",
   "execution_count": 36,
   "metadata": {},
   "outputs": [
    {
     "data": {
      "text/plain": [
       "{'a': {1: 2, 2: 2, 3: 2},\n",
       " 'b': {0: 2, 1: 1, 2: 1, 3: 1, '?': 1},\n",
       " 'c': {1: 2, 2: 1, 3: 1, '?': 2}}"
      ]
     },
     "execution_count": 36,
     "metadata": {},
     "output_type": "execute_result"
    }
   ],
   "source": [
    "getCountDict(data,'Class')"
   ]
  },
  {
   "cell_type": "code",
   "execution_count": 35,
   "metadata": {},
   "outputs": [],
   "source": [
    "data = [dict(a=1, b=0, c='?', Class=1), dict(a=1, b=3, c=2, Class=1),\n",
    "         dict(a=2, b='?', c=1, Class=2), dict(a=2, b=1, c=3, Class=2),\n",
    "         dict(a=3, b=0, c=1, Class=3), dict(a=3, b=2, c='?', Class=3)]"
   ]
  },
  {
   "cell_type": "code",
   "execution_count": 64,
   "metadata": {},
   "outputs": [],
   "source": [
    "def chooseBestAttribute(examples):\n",
    "\n",
    "    countDict = getCountDict(examples)\n",
    "    print countDict\n",
    "    entropy = 0.0\n",
    "    gain = float(\"inf\")\n",
    "    best = ''\n",
    "\n",
    "    for (attribute, value) in countDict.iteritems():\n",
    "        print attribute \n",
    "        newGain = 0.0\n",
    "        valueResults = []\n",
    "        valueTotals = []\n",
    "        itemCounts = []\n",
    "        valTotal = 0.0\n",
    "        valResult = 0.0\n",
    "        Classcounter= []\n",
    "\n",
    "        for (val, counts) in value.iteritems():\n",
    "            valTotal += counts\n",
    "            itemCounts.append(counts)\n",
    "        print itemCounts    \n",
    "\n",
    "        for num in itemCounts:\n",
    "            valResult -= num / valTotal * math.log(num / valTotal,2)\n",
    "\n",
    "            valueResults.append(valResult)\n",
    "            valueTotals.append(valTotal)\n",
    "        \n",
    "    \n",
    "        print valueResults\n",
    "\n",
    "        for (counter, num) in enumerate(valueResults):\n",
    "            newGain += valueTotals[counter] / len(examples) * num\n",
    "            print newGain\n",
    "            \n",
    "            if newGain<=gain:\n",
    "                gain = newGain \n",
    "                best = attribute\n",
    "\n",
    "    return best"
   ]
  },
  {
   "cell_type": "code",
   "execution_count": 65,
   "metadata": {},
   "outputs": [
    {
     "name": "stdout",
     "output_type": "stream",
     "text": [
      "{'a': {1: 2, 2: 2, 3: 2}, 'c': {1: 2, 2: 1, 3: 1, '?': 2}, 'b': {0: 2, 1: 1, 2: 1, 3: 1, '?': 1}, 'Class': {1: 2, 2: 2, 3: 2}}\n",
      "a\n",
      "[2, 2, 2]\n",
      "[0.5283208335737187, 1.0566416671474375, 1.584962500721156]\n",
      "0.528320833574\n",
      "1.58496250072\n",
      "3.16992500144\n",
      "c\n",
      "[2, 1, 1, 2]\n",
      "[0.5283208335737187, 0.9591479170272448, 1.3899750004807707, 1.9182958340544896]\n",
      "0.528320833574\n",
      "1.4874687506\n",
      "2.87744375108\n",
      "4.79573958514\n",
      "b\n",
      "[2, 1, 1, 1, 1]\n",
      "[0.5283208335737187, 0.9591479170272448, 1.3899750004807707, 1.8208020839342967, 2.2516291673878226]\n",
      "0.528320833574\n",
      "1.4874687506\n",
      "2.87744375108\n",
      "4.69824583502\n",
      "6.9498750024\n",
      "Class\n",
      "[2, 2, 2]\n",
      "[0.5283208335737187, 1.0566416671474375, 1.584962500721156]\n",
      "0.528320833574\n",
      "1.58496250072\n",
      "3.16992500144\n"
     ]
    },
    {
     "data": {
      "text/plain": [
       "'Class'"
      ]
     },
     "execution_count": 65,
     "metadata": {},
     "output_type": "execute_result"
    }
   ],
   "source": [
    "chooseBestAttribute(data)"
   ]
  },
  {
   "cell_type": "code",
   "execution_count": null,
   "metadata": {},
   "outputs": [],
   "source": []
  }
 ],
 "metadata": {
  "kernelspec": {
   "display_name": "Python 2",
   "language": "python",
   "name": "python2"
  },
  "language_info": {
   "codemirror_mode": {
    "name": "ipython",
    "version": 2
   },
   "file_extension": ".py",
   "mimetype": "text/x-python",
   "name": "python",
   "nbconvert_exporter": "python",
   "pygments_lexer": "ipython2",
   "version": "2.7.14"
  }
 },
 "nbformat": 4,
 "nbformat_minor": 2
}
